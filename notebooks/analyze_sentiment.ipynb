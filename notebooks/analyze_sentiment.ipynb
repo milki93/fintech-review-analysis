{
 "cells": [
  {
   "cell_type": "code",
   "execution_count": 3,
   "id": "acdb2c5d-ca37-42c8-9905-5e8db9a31b30",
   "metadata": {},
   "outputs": [],
   "source": [
    "# !pip install textblob vaderSentiment scikit-learn"
   ]
  },
  {
   "cell_type": "code",
   "execution_count": 7,
   "id": "690a0a3e-791f-4b73-8215-9eba34b76b6b",
   "metadata": {},
   "outputs": [],
   "source": [
    "# !pip install vaderSentiment"
   ]
  },
  {
   "cell_type": "markdown",
   "id": "7a62d35a-c368-43ab-a79e-5e1af4f5821d",
   "metadata": {},
   "source": [
    "### Load data"
   ]
  },
  {
   "cell_type": "code",
   "execution_count": 23,
   "id": "9888bae2-5b4a-4e44-b623-b024d8b2a50b",
   "metadata": {},
   "outputs": [],
   "source": [
    "import pandas as pd\n",
    "from textblob import TextBlob\n",
    "from vaderSentiment.vaderSentiment import SentimentIntensityAnalyzer\n",
    "from sklearn.feature_extraction.text import TfidfVectorizer\n",
    "from IPython.display import display\n",
    "\n",
    "df = pd.read_csv('../data/all_banks_reviews_cleaned.csv')"
   ]
  },
  {
   "cell_type": "markdown",
   "id": "674cd9ed-01b5-4bf2-821e-9f96de34b5f6",
   "metadata": {},
   "source": [
    "### Sentiment Analysis using TextBlob"
   ]
  },
  {
   "cell_type": "code",
   "execution_count": 24,
   "id": "c7c139e8-c347-4faf-a136-739fcc2fcc23",
   "metadata": {},
   "outputs": [],
   "source": [
    "def textblob_sentiment(text):\n",
    "    polarity = TextBlob(str(text)).sentiment.polarity\n",
    "    if polarity > 0.05:\n",
    "        return 'positive'\n",
    "    elif polarity < -0.05:\n",
    "        return 'negative'\n",
    "    else:\n",
    "        return 'neutral'\n",
    "\n",
    "df['textblob_sentiment'] = df['review'].apply(textblob_sentiment)"
   ]
  },
  {
   "cell_type": "markdown",
   "id": "af256893-f198-48dd-bbae-e3f0bc126930",
   "metadata": {},
   "source": [
    "### Sentiment Analysis using VADER"
   ]
  },
  {
   "cell_type": "code",
   "execution_count": 25,
   "id": "a3015fba-8ed1-4713-ad16-b24faa7b9378",
   "metadata": {},
   "outputs": [],
   "source": [
    "vader = SentimentIntensityAnalyzer()\n",
    "\n",
    "def vader_sentiment(text):\n",
    "    score = vader.polarity_scores(str(text))['compound']\n",
    "    if score >= 0.05:\n",
    "        return 'positive'\n",
    "    elif score <= -0.05:\n",
    "        return 'negative'\n",
    "    else:\n",
    "        return 'neutral'\n",
    "\n",
    "df['vader_sentiment'] = df['review'].apply(vader_sentiment)\n"
   ]
  },
  {
   "cell_type": "markdown",
   "id": "5991d7ee-b493-4a48-a574-30df6e921722",
   "metadata": {},
   "source": [
    "### Compare the Two Methods"
   ]
  },
  {
   "cell_type": "code",
   "execution_count": 27,
   "id": "582e1d6d-454f-4f94-93c1-9914dfa0ad04",
   "metadata": {},
   "outputs": [
    {
     "data": {
      "text/html": [
       "<div>\n",
       "<style scoped>\n",
       "    .dataframe tbody tr th:only-of-type {\n",
       "        vertical-align: middle;\n",
       "    }\n",
       "\n",
       "    .dataframe tbody tr th {\n",
       "        vertical-align: top;\n",
       "    }\n",
       "\n",
       "    .dataframe thead th {\n",
       "        text-align: right;\n",
       "    }\n",
       "</style>\n",
       "<table border=\"1\" class=\"dataframe\">\n",
       "  <thead>\n",
       "    <tr style=\"text-align: right;\">\n",
       "      <th></th>\n",
       "      <th>textblob_sentiment</th>\n",
       "      <th>vader_sentiment</th>\n",
       "    </tr>\n",
       "    <tr>\n",
       "      <th>bank</th>\n",
       "      <th></th>\n",
       "      <th></th>\n",
       "    </tr>\n",
       "  </thead>\n",
       "  <tbody>\n",
       "    <tr>\n",
       "      <th>Bank of Abyssinia</th>\n",
       "      <td>{'positive': 466, 'neutral': 374, 'negative': ...</td>\n",
       "      <td>{'positive': 479, 'neutral': 316, 'negative': ...</td>\n",
       "    </tr>\n",
       "    <tr>\n",
       "      <th>Commercial Bank of Ethiopia</th>\n",
       "      <td>{'positive': 662, 'neutral': 272, 'negative': 66}</td>\n",
       "      <td>{'positive': 682, 'neutral': 222, 'negative': 96}</td>\n",
       "    </tr>\n",
       "    <tr>\n",
       "      <th>Dashen Bank</th>\n",
       "      <td>{'positive': 333, 'neutral': 88, 'negative': 28}</td>\n",
       "      <td>{'positive': 333, 'neutral': 90, 'negative': 26}</td>\n",
       "    </tr>\n",
       "  </tbody>\n",
       "</table>\n",
       "</div>"
      ],
      "text/plain": [
       "                                                            textblob_sentiment  \\\n",
       "bank                                                                             \n",
       "Bank of Abyssinia            {'positive': 466, 'neutral': 374, 'negative': ...   \n",
       "Commercial Bank of Ethiopia  {'positive': 662, 'neutral': 272, 'negative': 66}   \n",
       "Dashen Bank                   {'positive': 333, 'neutral': 88, 'negative': 28}   \n",
       "\n",
       "                                                               vader_sentiment  \n",
       "bank                                                                            \n",
       "Bank of Abyssinia            {'positive': 479, 'neutral': 316, 'negative': ...  \n",
       "Commercial Bank of Ethiopia  {'positive': 682, 'neutral': 222, 'negative': 96}  \n",
       "Dashen Bank                   {'positive': 333, 'neutral': 90, 'negative': 26}  "
      ]
     },
     "metadata": {},
     "output_type": "display_data"
    },
    {
     "name": "stdout",
     "output_type": "stream",
     "text": [
      "\n",
      " Output saved to task2_sentiment_output.csv\n"
     ]
    }
   ],
   "source": [
    "sentiment_counts = df[['textblob_sentiment', 'vader_sentiment', 'bank']] \\\n",
    "    .groupby('bank') \\\n",
    "    .agg(lambda x: x.value_counts().to_dict())\n",
    "\n",
    "\n",
    "display(sentiment_counts)\n",
    "\n",
    "def extract_keywords(data, top_n=10):\n",
    "    vectorizer = TfidfVectorizer(stop_words='english', max_features=100)\n",
    "    tfidf_matrix = vectorizer.fit_transform(data)\n",
    "    return vectorizer.get_feature_names_out()[:top_n]\n",
    "\n",
    "# Save Output \n",
    "df.to_csv('task2_sentiment_output.csv', index=False)\n",
    "print(\"\\n Output saved to task2_sentiment_output.csv\")\n"
   ]
  },
  {
   "cell_type": "code",
   "execution_count": null,
   "id": "4f7c61a7-2867-499b-9110-995bc213dc9c",
   "metadata": {},
   "outputs": [],
   "source": []
  }
 ],
 "metadata": {
  "kernelspec": {
   "display_name": "Python 3 (ipykernel)",
   "language": "python",
   "name": "python3"
  },
  "language_info": {
   "codemirror_mode": {
    "name": "ipython",
    "version": 3
   },
   "file_extension": ".py",
   "mimetype": "text/x-python",
   "name": "python",
   "nbconvert_exporter": "python",
   "pygments_lexer": "ipython3",
   "version": "3.12.7"
  }
 },
 "nbformat": 4,
 "nbformat_minor": 5
}
